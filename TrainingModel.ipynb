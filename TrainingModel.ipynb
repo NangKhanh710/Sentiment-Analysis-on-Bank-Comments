{
  "cells": [
    {
      "cell_type": "code",
      "execution_count": null,
      "id": "b8677288",
      "metadata": {
        "id": "b8677288"
      },
      "outputs": [],
      "source": [
        "from tensorflow.keras.layers import Embedding, Dense, Dropout, Bidirectional, LSTM, GRU, Input, LayerNormalization, GlobalMaxPooling1D,\\\n",
        "MaxPooling1D, Conv1D, LayerNormalization, Dropout,MultiHeadAttention,GlobalAveragePooling1D\n",
        "from tensorflow.keras.optimizers import Adam, SGD\n",
        "import tensorflow as tf\n",
        "from keras.api._v2.keras import activations\n",
        "import numpy as np\n",
        "from sklearn.model_selection import train_test_split"
      ]
    },
    {
      "cell_type": "code",
      "execution_count": null,
      "id": "f81369fd",
      "metadata": {
        "id": "f81369fd"
      },
      "outputs": [],
      "source": [
        "vec_data = np.load('vectorize_maxlen_108.npy')\n",
        "label_tf = np.load('label_tf.npy')"
      ]
    },
    {
      "cell_type": "code",
      "execution_count": null,
      "id": "87a3dddf",
      "metadata": {
        "id": "87a3dddf"
      },
      "outputs": [],
      "source": [
        "X_train, X_val, Y_train, Y_val = train_test_split(vec_data,label_tf,test_size = 0.2,random_state=42)"
      ]
    },
    {
      "cell_type": "markdown",
      "id": "140fa4d5",
      "metadata": {
        "id": "140fa4d5"
      },
      "source": [
        "# 1.Bi LSTM"
      ]
    },
    {
      "cell_type": "code",
      "execution_count": null,
      "id": "659ac0d9",
      "metadata": {
        "id": "659ac0d9",
        "outputId": "88994d01-e98d-44fa-9c54-6ea9491cb38e"
      },
      "outputs": [
        {
          "name": "stdout",
          "output_type": "stream",
          "text": [
            "Model: \"model_3\"\n",
            "__________________________________________________________________________________________________\n",
            " Layer (type)                   Output Shape         Param #     Connected to                     \n",
            "==================================================================================================\n",
            " input_4 (InputLayer)           [(None, 108)]        0           []                               \n",
            "                                                                                                  \n",
            " embedding_3 (Embedding)        (None, 108, 32)      136896      ['input_4[0][0]']                \n",
            "                                                                                                  \n",
            " conv1d_4 (Conv1D)              (None, 108, 32)      3104        ['embedding_3[0][0]']            \n",
            "                                                                                                  \n",
            " max_pooling1d_6 (MaxPooling1D)  (None, 54, 32)      0           ['conv1d_4[0][0]']               \n",
            "                                                                                                  \n",
            " dropout_16 (Dropout)           (None, 54, 32)       0           ['max_pooling1d_6[0][0]']        \n",
            "                                                                                                  \n",
            " bidirectional_2 (Bidirectional  (None, 108, 64)     16640       ['embedding_3[0][0]']            \n",
            " )                                                                                                \n",
            "                                                                                                  \n",
            " conv1d_5 (Conv1D)              (None, 54, 32)       3104        ['dropout_16[0][0]']             \n",
            "                                                                                                  \n",
            " max_pooling1d_8 (MaxPooling1D)  (None, 54, 64)      0           ['bidirectional_2[0][0]']        \n",
            "                                                                                                  \n",
            " max_pooling1d_7 (MaxPooling1D)  (None, 27, 32)      0           ['conv1d_5[0][0]']               \n",
            "                                                                                                  \n",
            " bidirectional_3 (Bidirectional  (None, 54, 64)      18816       ['max_pooling1d_8[0][0]']        \n",
            " )                                                                                                \n",
            "                                                                                                  \n",
            " layer_normalization_6 (LayerNo  (None, 27, 32)      64          ['max_pooling1d_7[0][0]']        \n",
            " rmalization)                                                                                     \n",
            "                                                                                                  \n",
            " max_pooling1d_9 (MaxPooling1D)  (None, 27, 64)      0           ['bidirectional_3[0][0]']        \n",
            "                                                                                                  \n",
            " dropout_17 (Dropout)           (None, 27, 32)       0           ['layer_normalization_6[0][0]']  \n",
            "                                                                                                  \n",
            " layer_normalization_7 (LayerNo  (None, 27, 64)      128         ['max_pooling1d_9[0][0]']        \n",
            " rmalization)                                                                                     \n",
            "                                                                                                  \n",
            " concatenate_1 (Concatenate)    (None, 27, 96)       0           ['dropout_17[0][0]',             \n",
            "                                                                  'layer_normalization_7[0][0]']  \n",
            "                                                                                                  \n",
            " global_max_pooling1d_3 (Global  (None, 96)          0           ['concatenate_1[0][0]']          \n",
            " MaxPooling1D)                                                                                    \n",
            "                                                                                                  \n",
            " layer_normalization_8 (LayerNo  (None, 96)          192         ['global_max_pooling1d_3[0][0]'] \n",
            " rmalization)                                                                                     \n",
            "                                                                                                  \n",
            " dense_15 (Dense)               (None, 90)           8730        ['layer_normalization_8[0][0]']  \n",
            "                                                                                                  \n",
            " dropout_18 (Dropout)           (None, 90)           0           ['dense_15[0][0]']               \n",
            "                                                                                                  \n",
            " dense_16 (Dense)               (None, 70)           6370        ['dropout_18[0][0]']             \n",
            "                                                                                                  \n",
            " dropout_19 (Dropout)           (None, 70)           0           ['dense_16[0][0]']               \n",
            "                                                                                                  \n",
            " dense_17 (Dense)               (None, 50)           3550        ['dropout_19[0][0]']             \n",
            "                                                                                                  \n",
            " dropout_20 (Dropout)           (None, 50)           0           ['dense_17[0][0]']               \n",
            "                                                                                                  \n",
            " dense_18 (Dense)               (None, 30)           1530        ['dropout_20[0][0]']             \n",
            "                                                                                                  \n",
            " dropout_21 (Dropout)           (None, 30)           0           ['dense_18[0][0]']               \n",
            "                                                                                                  \n",
            " dense_19 (Dense)               (None, 3)            93          ['dropout_21[0][0]']             \n",
            "                                                                                                  \n",
            "==================================================================================================\n",
            "Total params: 199,217\n",
            "Trainable params: 199,217\n",
            "Non-trainable params: 0\n",
            "__________________________________________________________________________________________________\n"
          ]
        }
      ],
      "source": [
        "def generate_model():\n",
        "  dropout_thresold = 0.4\n",
        "  input_dim = 4278\n",
        "  output_dim = 32\n",
        "  input_length = 108\n",
        "  initializer = tf.keras.initializers.GlorotNormal()\n",
        "\n",
        "  input_layers = Input(shape=(input_length))\n",
        "  feature = Embedding(input_dim=input_dim, output_dim = output_dim,\\\n",
        "                      embeddings_initializer = 'GlorotNormal',input_length = input_length)(input_layers)\n",
        "\n",
        "  bi_lstm_feature = Bidirectional(LSTM(units = 32, dropout = dropout_thresold,return_sequences=True,\\\n",
        "                                       kernel_initializer = initializer), merge_mode = 'concat')(feature)\n",
        "  bi_lstm_feature = MaxPooling1D()(bi_lstm_feature)\n",
        "\n",
        "  bi_lstm_feature = Bidirectional(GRU(units = 32, dropout = dropout_thresold,return_sequences=True,\\\n",
        "                                       kernel_initializer = initializer), merge_mode = 'concat')(bi_lstm_feature)\n",
        "  bi_lstm_feature = MaxPooling1D()(bi_lstm_feature)\n",
        "  bi_lstm_feature = LayerNormalization()(bi_lstm_feature)\n",
        "\n",
        "  combine_feature = tf.keras.layers.Concatenate()([bi_lstm_feature])\n",
        "  combine_feature = GlobalMaxPooling1D()(combine_feature)\n",
        "  combine_feature = LayerNormalization()(combine_feature)\n",
        "\n",
        "  classifier = Dense(90, activation = 'relu')(combine_feature)\n",
        "  classifier = Dropout(0.2)(classifier)\n",
        "  classifier = Dense(70, activation = 'relu')(classifier)\n",
        "  classifier = Dropout(0.2)(classifier)\n",
        "  classifier = Dense(50, activation = 'relu')(classifier)\n",
        "  classifier = Dropout(0.2)(classifier)\n",
        "  classifier = Dense(30, activation = 'relu')(classifier)\n",
        "  classifier = Dropout(0.2)(classifier)\n",
        "  classifier = Dense(3, activation = 'softmax')(classifier)\n",
        "\n",
        "  model = tf.keras.Model(inputs = input_layers, outputs = classifier)\n",
        "\n",
        "  return model\n",
        "\n",
        "model_bilstm = generate_model()\n",
        "adam = Adam(learning_rate = 0.001)\n",
        "model_bilstm.compile(optimizer=adam, loss = 'categorical_crossentropy', metrics = ['accuracy'])\n",
        "model_bilstm.summary()"
      ]
    },
    {
      "cell_type": "code",
      "execution_count": null,
      "id": "08e3703a",
      "metadata": {
        "id": "08e3703a",
        "outputId": "589ce1d9-81e7-4882-ba55-2b078aca97bf"
      },
      "outputs": [
        {
          "name": "stdout",
          "output_type": "stream",
          "text": [
            "Epoch 1/10\n",
            "13/13 [==============================] - 5s 359ms/step - loss: 0.2707 - accuracy: 0.9210 - val_loss: 0.4978 - val_accuracy: 0.8786\n",
            "Epoch 2/10\n",
            "13/13 [==============================] - 4s 310ms/step - loss: 0.2342 - accuracy: 0.9314 - val_loss: 0.5343 - val_accuracy: 0.8734\n",
            "Epoch 3/10\n",
            "13/13 [==============================] - 4s 316ms/step - loss: 0.2206 - accuracy: 0.9294 - val_loss: 0.5567 - val_accuracy: 0.8811\n",
            "Epoch 4/10\n",
            "13/13 [==============================] - 4s 310ms/step - loss: 0.1898 - accuracy: 0.9346 - val_loss: 0.5633 - val_accuracy: 0.8837\n",
            "Epoch 5/10\n",
            "13/13 [==============================] - 5s 375ms/step - loss: 0.1914 - accuracy: 0.9353 - val_loss: 0.5012 - val_accuracy: 0.8811\n",
            "Epoch 6/10\n",
            "13/13 [==============================] - 5s 404ms/step - loss: 0.2464 - accuracy: 0.9178 - val_loss: 0.4788 - val_accuracy: 0.8579\n",
            "Epoch 7/10\n",
            "13/13 [==============================] - 5s 425ms/step - loss: 0.1871 - accuracy: 0.9385 - val_loss: 0.5423 - val_accuracy: 0.8553\n",
            "Epoch 8/10\n",
            "13/13 [==============================] - 5s 406ms/step - loss: 0.1574 - accuracy: 0.9398 - val_loss: 0.5622 - val_accuracy: 0.8630\n",
            "Epoch 9/10\n",
            "13/13 [==============================] - 5s 407ms/step - loss: 0.1579 - accuracy: 0.9424 - val_loss: 0.5437 - val_accuracy: 0.8786\n",
            "Epoch 10/10\n",
            "13/13 [==============================] - 5s 421ms/step - loss: 0.1906 - accuracy: 0.9327 - val_loss: 0.5478 - val_accuracy: 0.8682\n"
          ]
        }
      ],
      "source": [
        "callback_model = tf.keras.callbacks.ModelCheckpoint('BiLSTM_model.h5', monitors = 'val_loss')\n",
        "history = model_bilstm.fit(x = X_train, y = Y_train, validation_data = (X_val,Y_val),\\\n",
        "                    epochs = 10, batch_size = 128, callbacks = [callback_model])"
      ]
    },
    {
      "cell_type": "markdown",
      "id": "46f848bd",
      "metadata": {
        "id": "46f848bd"
      },
      "source": [
        "# 2.CNN"
      ]
    },
    {
      "cell_type": "code",
      "execution_count": null,
      "id": "7198ef04",
      "metadata": {
        "id": "7198ef04",
        "outputId": "057d390b-2b6b-4436-ce65-c2e89685477e"
      },
      "outputs": [
        {
          "name": "stdout",
          "output_type": "stream",
          "text": [
            "Model: \"model_5\"\n",
            "_________________________________________________________________\n",
            " Layer (type)                Output Shape              Param #   \n",
            "=================================================================\n",
            " input_6 (InputLayer)        [(None, 108)]             0         \n",
            "                                                                 \n",
            " embedding_5 (Embedding)     (None, 108, 32)           136896    \n",
            "                                                                 \n",
            " conv1d_8 (Conv1D)           (None, 108, 32)           3104      \n",
            "                                                                 \n",
            " max_pooling1d_12 (MaxPoolin  (None, 54, 32)           0         \n",
            " g1D)                                                            \n",
            "                                                                 \n",
            " dropout_28 (Dropout)        (None, 54, 32)            0         \n",
            "                                                                 \n",
            " conv1d_9 (Conv1D)           (None, 54, 32)            3104      \n",
            "                                                                 \n",
            " max_pooling1d_13 (MaxPoolin  (None, 27, 32)           0         \n",
            " g1D)                                                            \n",
            "                                                                 \n",
            " layer_normalization_11 (Lay  (None, 27, 32)           64        \n",
            " erNormalization)                                                \n",
            "                                                                 \n",
            " dropout_29 (Dropout)        (None, 27, 32)            0         \n",
            "                                                                 \n",
            " global_max_pooling1d_5 (Glo  (None, 32)               0         \n",
            " balMaxPooling1D)                                                \n",
            "                                                                 \n",
            " layer_normalization_12 (Lay  (None, 32)               64        \n",
            " erNormalization)                                                \n",
            "                                                                 \n",
            " dense_25 (Dense)            (None, 90)                2970      \n",
            "                                                                 \n",
            " dropout_30 (Dropout)        (None, 90)                0         \n",
            "                                                                 \n",
            " dense_26 (Dense)            (None, 70)                6370      \n",
            "                                                                 \n",
            " dropout_31 (Dropout)        (None, 70)                0         \n",
            "                                                                 \n",
            " dense_27 (Dense)            (None, 50)                3550      \n",
            "                                                                 \n",
            " dropout_32 (Dropout)        (None, 50)                0         \n",
            "                                                                 \n",
            " dense_28 (Dense)            (None, 30)                1530      \n",
            "                                                                 \n",
            " dropout_33 (Dropout)        (None, 30)                0         \n",
            "                                                                 \n",
            " dense_29 (Dense)            (None, 3)                 93        \n",
            "                                                                 \n",
            "=================================================================\n",
            "Total params: 157,745\n",
            "Trainable params: 157,745\n",
            "Non-trainable params: 0\n",
            "_________________________________________________________________\n"
          ]
        }
      ],
      "source": [
        "def generate_model():\n",
        "  dropout_thresold = 0.4\n",
        "  input_dim = 4278\n",
        "  output_dim = 32\n",
        "  input_length = 108\n",
        "  initializer = tf.keras.initializers.GlorotNormal()\n",
        "\n",
        "  input_layers = Input(shape=(input_length))\n",
        "  feature = Embedding(input_dim=input_dim, output_dim = output_dim,\\\n",
        "                      embeddings_initializer = 'GlorotNormal',input_length = input_length)(input_layers)\n",
        "\n",
        "  cnn_feature = Conv1D(filters = 32, kernel_size = 3, padding = 'same', activation = 'relu')(feature)\n",
        "  cnn_feature = MaxPooling1D()(cnn_feature)\n",
        "  cnn_feature = Dropout(dropout_thresold)(cnn_feature)\n",
        "  cnn_feature = Conv1D(filters = 32, kernel_size = 3, padding = 'same', activation = 'relu')(cnn_feature)\n",
        "  cnn_feature = MaxPooling1D()(cnn_feature)\n",
        "  cnn_feature = LayerNormalization()(cnn_feature)\n",
        "  cnn_feature = Dropout(dropout_thresold)(cnn_feature)\n",
        "\n",
        "\n",
        "  #combine_feature = tf.keras.layers.Concatenate()([bi_lstm_feature])\n",
        "  combine_feature = GlobalMaxPooling1D()(cnn_feature)\n",
        "  combine_feature = LayerNormalization()(combine_feature)\n",
        "\n",
        "  classifier = Dense(90, activation = 'relu')(combine_feature)\n",
        "  classifier = Dropout(0.2)(classifier)\n",
        "  classifier = Dense(70, activation = 'relu')(classifier)\n",
        "  classifier = Dropout(0.2)(classifier)\n",
        "  classifier = Dense(50, activation = 'relu')(classifier)\n",
        "  classifier = Dropout(0.2)(classifier)\n",
        "  classifier = Dense(30, activation = 'relu')(classifier)\n",
        "  classifier = Dropout(0.2)(classifier)\n",
        "  classifier = Dense(3, activation = 'softmax')(classifier)\n",
        "\n",
        "  model = tf.keras.Model(inputs = input_layers, outputs = classifier)\n",
        "\n",
        "  return model\n",
        "\n",
        "model_cnn = generate_model()\n",
        "adam = Adam(learning_rate = 0.001)\n",
        "model_cnn.compile(optimizer=adam, loss = 'categorical_crossentropy', metrics = ['accuracy'])\n",
        "model_cnn.summary()"
      ]
    },
    {
      "cell_type": "code",
      "execution_count": null,
      "id": "086c928b",
      "metadata": {
        "id": "086c928b",
        "outputId": "8ad422ae-2ee7-4770-f790-4e454d75f847"
      },
      "outputs": [
        {
          "name": "stdout",
          "output_type": "stream",
          "text": [
            "Epoch 1/10\n",
            "13/13 [==============================] - 1s 54ms/step - loss: 0.3446 - accuracy: 0.8951 - val_loss: 0.5694 - val_accuracy: 0.8553\n",
            "Epoch 2/10\n",
            "13/13 [==============================] - 1s 76ms/step - loss: 0.2875 - accuracy: 0.9230 - val_loss: 0.5971 - val_accuracy: 0.8475\n",
            "Epoch 3/10\n",
            "13/13 [==============================] - 1s 67ms/step - loss: 0.2654 - accuracy: 0.9249 - val_loss: 0.5439 - val_accuracy: 0.8656\n",
            "Epoch 4/10\n",
            "13/13 [==============================] - 1s 67ms/step - loss: 0.2669 - accuracy: 0.9249 - val_loss: 0.6188 - val_accuracy: 0.8527\n",
            "Epoch 5/10\n",
            "13/13 [==============================] - 1s 80ms/step - loss: 0.2432 - accuracy: 0.9320 - val_loss: 0.5890 - val_accuracy: 0.8630\n",
            "Epoch 6/10\n",
            "13/13 [==============================] - 1s 64ms/step - loss: 0.2337 - accuracy: 0.9282 - val_loss: 0.6584 - val_accuracy: 0.8475\n",
            "Epoch 7/10\n",
            "13/13 [==============================] - 1s 67ms/step - loss: 0.2231 - accuracy: 0.9320 - val_loss: 0.6429 - val_accuracy: 0.8527\n",
            "Epoch 8/10\n",
            "13/13 [==============================] - 1s 76ms/step - loss: 0.1981 - accuracy: 0.9405 - val_loss: 0.6402 - val_accuracy: 0.8605\n",
            "Epoch 9/10\n",
            "13/13 [==============================] - 1s 69ms/step - loss: 0.1993 - accuracy: 0.9366 - val_loss: 0.6890 - val_accuracy: 0.8579\n",
            "Epoch 10/10\n",
            "13/13 [==============================] - 1s 72ms/step - loss: 0.1729 - accuracy: 0.9411 - val_loss: 0.7227 - val_accuracy: 0.8656\n"
          ]
        }
      ],
      "source": [
        "callback_model = tf.keras.callbacks.ModelCheckpoint('CNN_model.h5', monitors = 'val_loss')\n",
        "history = model_cnn.fit(x = X_train, y = Y_train, validation_data = (X_val,Y_val),\\\n",
        "                    epochs = 10, batch_size = 128, callbacks = [callback_model])"
      ]
    },
    {
      "cell_type": "markdown",
      "id": "0a707d7e",
      "metadata": {
        "id": "0a707d7e"
      },
      "source": [
        "# 3.Transformer"
      ]
    },
    {
      "cell_type": "code",
      "execution_count": null,
      "id": "da4d0aa4",
      "metadata": {
        "id": "da4d0aa4",
        "outputId": "43c1e875-2578-4c87-ef11-80d61442c61c"
      },
      "outputs": [
        {
          "name": "stdout",
          "output_type": "stream",
          "text": [
            "Model: \"model\"\n",
            "__________________________________________________________________________________________________\n",
            " Layer (type)                   Output Shape         Param #     Connected to                     \n",
            "==================================================================================================\n",
            " input_1 (InputLayer)           [(None, 108)]        0           []                               \n",
            "                                                                                                  \n",
            " embedding (Embedding)          (None, 108, 32)      136896      ['input_1[0][0]']                \n",
            "                                                                                                  \n",
            " multi_head_attention (MultiHea  (None, 108, 32)     560319      ['embedding[0][0]',              \n",
            " dAttention)                                                      'embedding[0][0]']              \n",
            "                                                                                                  \n",
            " layer_normalization (LayerNorm  (None, 108, 32)     64          ['multi_head_attention[0][0]']   \n",
            " alization)                                                                                       \n",
            "                                                                                                  \n",
            " global_max_pooling1d (GlobalMa  (None, 32)          0           ['layer_normalization[0][0]']    \n",
            " xPooling1D)                                                                                      \n",
            "                                                                                                  \n",
            " dense (Dense)                  (None, 90)           2970        ['global_max_pooling1d[0][0]']   \n",
            "                                                                                                  \n",
            " dropout (Dropout)              (None, 90)           0           ['dense[0][0]']                  \n",
            "                                                                                                  \n",
            " dense_1 (Dense)                (None, 70)           6370        ['dropout[0][0]']                \n",
            "                                                                                                  \n",
            " dropout_1 (Dropout)            (None, 70)           0           ['dense_1[0][0]']                \n",
            "                                                                                                  \n",
            " dense_2 (Dense)                (None, 50)           3550        ['dropout_1[0][0]']              \n",
            "                                                                                                  \n",
            " dropout_2 (Dropout)            (None, 50)           0           ['dense_2[0][0]']                \n",
            "                                                                                                  \n",
            " dense_3 (Dense)                (None, 30)           1530        ['dropout_2[0][0]']              \n",
            "                                                                                                  \n",
            " dropout_3 (Dropout)            (None, 30)           0           ['dense_3[0][0]']                \n",
            "                                                                                                  \n",
            " dense_4 (Dense)                (None, 3)            93          ['dropout_3[0][0]']              \n",
            "                                                                                                  \n",
            "==================================================================================================\n",
            "Total params: 711,792\n",
            "Trainable params: 711,792\n",
            "Non-trainable params: 0\n",
            "__________________________________________________________________________________________________\n"
          ]
        }
      ],
      "source": [
        "def generate_model():\n",
        "  dropout_thresold = 0.4\n",
        "  input_dim = 4278\n",
        "  output_dim = 32\n",
        "  input_length = 108\n",
        "  initializer = tf.keras.initializers.GlorotNormal()\n",
        "\n",
        "  input_layers = Input(shape=(input_length))\n",
        "  feature = Embedding(input_dim=input_dim, output_dim = output_dim,\\\n",
        "                      embeddings_initializer = 'GlorotNormal',input_length = input_length)(input_layers)\n",
        "  trans_model = MultiHeadAttention(num_heads= 11, key_dim = 530)(feature, feature)\n",
        "  trans_model = LayerNormalization()(trans_model)\n",
        "  trans_model = GlobalMaxPooling1D()(trans_model)\n",
        "\n",
        "  classifier = Dense(90, activation = 'relu')(trans_model)\n",
        "  classifier = Dropout(0.2)(classifier)\n",
        "  classifier = Dense(70, activation = 'relu')(classifier)\n",
        "  classifier = Dropout(0.2)(classifier)\n",
        "  classifier = Dense(50, activation = 'relu')(classifier)\n",
        "  classifier = Dropout(0.2)(classifier)\n",
        "  classifier = Dense(30, activation = 'relu')(classifier)\n",
        "  classifier = Dropout(0.2)(classifier)\n",
        "  classifier = Dense(3, activation = 'softmax')(classifier)\n",
        "\n",
        "  model = tf.keras.Model(inputs = input_layers, outputs = classifier)\n",
        "\n",
        "  return model\n",
        "\n",
        "model_transformer = generate_model()\n",
        "adam = Adam(learning_rate = 0.001)\n",
        "model_transformer.compile(optimizer=adam, loss = 'categorical_crossentropy', metrics = ['accuracy'])\n",
        "model_transformer.summary()"
      ]
    },
    {
      "cell_type": "code",
      "execution_count": null,
      "id": "4be998e1",
      "metadata": {
        "id": "4be998e1",
        "outputId": "9690e30b-2236-4620-8c32-47130b109b83"
      },
      "outputs": [
        {
          "name": "stdout",
          "output_type": "stream",
          "text": [
            "Epoch 1/10\n",
            "13/13 [==============================] - 404s 21s/step - loss: 0.9701 - accuracy: 0.4505 - val_loss: 0.8688 - val_accuracy: 0.5478\n",
            "Epoch 2/10\n",
            "13/13 [==============================] - 132s 9s/step - loss: 0.9079 - accuracy: 0.4725 - val_loss: 0.8647 - val_accuracy: 0.4496\n",
            "Epoch 3/10\n",
            "13/13 [==============================] - 87s 7s/step - loss: 0.8820 - accuracy: 0.5113 - val_loss: 0.8182 - val_accuracy: 0.6460\n",
            "Epoch 4/10\n",
            "13/13 [==============================] - 83s 6s/step - loss: 0.8673 - accuracy: 0.5625 - val_loss: 0.7951 - val_accuracy: 0.6873\n",
            "Epoch 5/10\n",
            "13/13 [==============================] - 72s 6s/step - loss: 0.7766 - accuracy: 0.6427 - val_loss: 0.6644 - val_accuracy: 0.7571\n",
            "Epoch 6/10\n",
            "13/13 [==============================] - 74s 6s/step - loss: 0.6226 - accuracy: 0.7929 - val_loss: 0.5129 - val_accuracy: 0.8320\n",
            "Epoch 7/10\n",
            "13/13 [==============================] - 74s 6s/step - loss: 0.5171 - accuracy: 0.8362 - val_loss: 0.4790 - val_accuracy: 0.8424\n",
            "Epoch 8/10\n",
            "13/13 [==============================] - 72s 6s/step - loss: 0.3706 - accuracy: 0.8919 - val_loss: 0.4752 - val_accuracy: 0.8501\n",
            "Epoch 9/10\n",
            "13/13 [==============================] - 73s 6s/step - loss: 0.3072 - accuracy: 0.9042 - val_loss: 0.5285 - val_accuracy: 0.8527\n",
            "Epoch 10/10\n",
            "13/13 [==============================] - 72s 6s/step - loss: 0.2809 - accuracy: 0.9074 - val_loss: 0.5227 - val_accuracy: 0.8475\n"
          ]
        }
      ],
      "source": [
        "callback_model = tf.keras.callbacks.ModelCheckpoint('Transformer_model.h5', monitors = 'val_loss')\n",
        "history = model_transformer.fit(x = X_train, y = Y_train, validation_data = (X_val,Y_val),\\\n",
        "                    epochs = 10, batch_size = 128, callbacks = [callback_model])"
      ]
    }
  ],
  "metadata": {
    "kernelspec": {
      "display_name": "Python 3 (ipykernel)",
      "language": "python",
      "name": "python3"
    },
    "language_info": {
      "codemirror_mode": {
        "name": "ipython",
        "version": 3
      },
      "file_extension": ".py",
      "mimetype": "text/x-python",
      "name": "python",
      "nbconvert_exporter": "python",
      "pygments_lexer": "ipython3",
      "version": "3.10.9"
    },
    "colab": {
      "provenance": [],
      "toc_visible": true
    }
  },
  "nbformat": 4,
  "nbformat_minor": 5
}
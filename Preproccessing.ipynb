{
  "cells": [
    {
      "cell_type": "markdown",
      "id": "db13ec11",
      "metadata": {
        "id": "db13ec11"
      },
      "source": [
        "## 1.Drop null values"
      ]
    },
    {
      "cell_type": "code",
      "execution_count": null,
      "id": "72e5c478",
      "metadata": {
        "id": "72e5c478"
      },
      "outputs": [],
      "source": [
        "import pandas as pd\n",
        "from collections import Counter\n",
        "import re\n",
        "import string\n",
        "\n",
        "import numpy as np\n",
        "import tensorflow as tf\n",
        "from pyvi import ViUtils\n",
        "from pyvi import ViTokenizer\n",
        "\n",
        "import matplotlib.pyplot as plt\n",
        "import pickle\n",
        "from sklearn.model_selection import train_test_split\n",
        "\n",
        "from tensorflow.keras.preprocessing.text import Tokenizer\n",
        "from tensorflow.keras.preprocessing.sequence import pad_sequences\n",
        "\n",
        "from tensorflow.keras.layers import Embedding, Dense, Dropout, Bidirectional, LSTM, GRU, Input, LayerNormalization, GlobalMaxPooling1D,MaxPooling1D, Conv1D, LayerNormalization, Dropout\n",
        "from tensorflow.keras.optimizers import Adam, SGD\n",
        "from tensorflow.keras import Sequential"
      ]
    },
    {
      "cell_type": "code",
      "execution_count": null,
      "id": "c2718562",
      "metadata": {
        "id": "c2718562",
        "outputId": "b819fd46-bf7b-4418-ebfe-749354127b73"
      },
      "outputs": [
        {
          "data": {
            "text/html": [
              "<div>\n",
              "<style scoped>\n",
              "    .dataframe tbody tr th:only-of-type {\n",
              "        vertical-align: middle;\n",
              "    }\n",
              "\n",
              "    .dataframe tbody tr th {\n",
              "        vertical-align: top;\n",
              "    }\n",
              "\n",
              "    .dataframe thead th {\n",
              "        text-align: right;\n",
              "    }\n",
              "</style>\n",
              "<table border=\"1\" class=\"dataframe\">\n",
              "  <thead>\n",
              "    <tr style=\"text-align: right;\">\n",
              "      <th></th>\n",
              "      <th>place_name</th>\n",
              "      <th>review_text</th>\n",
              "      <th>review_rating</th>\n",
              "    </tr>\n",
              "  </thead>\n",
              "  <tbody>\n",
              "    <tr>\n",
              "      <th>0</th>\n",
              "      <td>Vietinbank - PGD Yên Thái</td>\n",
              "      <td>Nv thấy dân lao động không thèm tiếp.ăn nói th...</td>\n",
              "      <td>1</td>\n",
              "    </tr>\n",
              "    <tr>\n",
              "      <th>1</th>\n",
              "      <td>Vietinbank - PGD Yên Thái</td>\n",
              "      <td>Ngân hàng quá Tuyệt</td>\n",
              "      <td>5</td>\n",
              "    </tr>\n",
              "    <tr>\n",
              "      <th>2</th>\n",
              "      <td>Vietinbank - PGD Yên Thái</td>\n",
              "      <td>Đằng kia</td>\n",
              "      <td>5</td>\n",
              "    </tr>\n",
              "    <tr>\n",
              "      <th>3</th>\n",
              "      <td>Vietinbank - PGD Yên Thái</td>\n",
              "      <td>NaN</td>\n",
              "      <td>5</td>\n",
              "    </tr>\n",
              "    <tr>\n",
              "      <th>4</th>\n",
              "      <td>Ngân Hàng Công Thương Việt Nam Vietinbank PGD ...</td>\n",
              "      <td>Nhân viên giao dịch tại quầy làm việc không kh...</td>\n",
              "      <td>1</td>\n",
              "    </tr>\n",
              "    <tr>\n",
              "      <th>...</th>\n",
              "      <td>...</td>\n",
              "      <td>...</td>\n",
              "      <td>...</td>\n",
              "    </tr>\n",
              "    <tr>\n",
              "      <th>3056</th>\n",
              "      <td>Ngân Hàng Tmcp Công Thương Việt Nam - Vietinba...</td>\n",
              "      <td>PGD chỉ có 2 nhân viên giao dịch.Lúc vắng thì ...</td>\n",
              "      <td>1</td>\n",
              "    </tr>\n",
              "    <tr>\n",
              "      <th>3057</th>\n",
              "      <td>Ngân Hàng Tmcp Công Thương Việt Nam - Vietinba...</td>\n",
              "      <td>ngân hàng ở đây nói chung là nhân viên cũng tạ...</td>\n",
              "      <td>3</td>\n",
              "    </tr>\n",
              "    <tr>\n",
              "      <th>3058</th>\n",
              "      <td>Ngân Hàng Tmcp Công Thương Việt Nam - Vietinba...</td>\n",
              "      <td>Dịch vụ phong phú, nghiệp vụ nhân viên tô...</td>\n",
              "      <td>4</td>\n",
              "    </tr>\n",
              "    <tr>\n",
              "      <th>3059</th>\n",
              "      <td>Ngân Hàng Tmcp Công Thương Việt Nam - Vietinba...</td>\n",
              "      <td>mất thời gian một buổi sáng chờ đợi để lấy tiề...</td>\n",
              "      <td>1</td>\n",
              "    </tr>\n",
              "    <tr>\n",
              "      <th>3060</th>\n",
              "      <td>Ngân Hàng Tmcp Công Thương Việt Nam - Vietinba...</td>\n",
              "      <td>Nhân viên Nữ kém. CM lâu bị mờ Giáp lai mang s...</td>\n",
              "      <td>1</td>\n",
              "    </tr>\n",
              "  </tbody>\n",
              "</table>\n",
              "<p>3061 rows × 3 columns</p>\n",
              "</div>"
            ],
            "text/plain": [
              "                                             place_name  \\\n",
              "0                             Vietinbank - PGD Yên Thái   \n",
              "1                             Vietinbank - PGD Yên Thái   \n",
              "2                             Vietinbank - PGD Yên Thái   \n",
              "3                             Vietinbank - PGD Yên Thái   \n",
              "4     Ngân Hàng Công Thương Việt Nam Vietinbank PGD ...   \n",
              "...                                                 ...   \n",
              "3056  Ngân Hàng Tmcp Công Thương Việt Nam - Vietinba...   \n",
              "3057  Ngân Hàng Tmcp Công Thương Việt Nam - Vietinba...   \n",
              "3058  Ngân Hàng Tmcp Công Thương Việt Nam - Vietinba...   \n",
              "3059  Ngân Hàng Tmcp Công Thương Việt Nam - Vietinba...   \n",
              "3060  Ngân Hàng Tmcp Công Thương Việt Nam - Vietinba...   \n",
              "\n",
              "                                            review_text  review_rating  \n",
              "0     Nv thấy dân lao động không thèm tiếp.ăn nói th...              1  \n",
              "1                                   Ngân hàng quá Tuyệt              5  \n",
              "2                                              Đằng kia              5  \n",
              "3                                                   NaN              5  \n",
              "4     Nhân viên giao dịch tại quầy làm việc không kh...              1  \n",
              "...                                                 ...            ...  \n",
              "3056  PGD chỉ có 2 nhân viên giao dịch.Lúc vắng thì ...              1  \n",
              "3057  ngân hàng ở đây nói chung là nhân viên cũng tạ...              3  \n",
              "3058  Dịch vụ phong phú, nghiệp vụ nhân viên tô...              4  \n",
              "3059  mất thời gian một buổi sáng chờ đợi để lấy tiề...              1  \n",
              "3060  Nhân viên Nữ kém. CM lâu bị mờ Giáp lai mang s...              1  \n",
              "\n",
              "[3061 rows x 3 columns]"
            ]
          },
          "execution_count": 2,
          "metadata": {},
          "output_type": "execute_result"
        }
      ],
      "source": [
        "df = pd.read_csv('bank dataframe.csv')\n",
        "df = df[['place_name','review_text','review_rating']]\n",
        "df"
      ]
    },
    {
      "cell_type": "code",
      "execution_count": null,
      "id": "40967d82",
      "metadata": {
        "id": "40967d82",
        "outputId": "7aa3677e-c75e-4022-e036-7a28e95b146d"
      },
      "outputs": [
        {
          "name": "stdout",
          "output_type": "stream",
          "text": [
            "Kiểm tra dữ liệu thiếu: \n",
            "place_name         0\n",
            "review_text      251\n",
            "review_rating      0\n",
            "dtype: int64\n"
          ]
        }
      ],
      "source": [
        "print('Kiểm tra dữ liệu thiếu: ')\n",
        "print(df.isnull().sum())"
      ]
    },
    {
      "cell_type": "code",
      "execution_count": null,
      "id": "7ff6d03a",
      "metadata": {
        "id": "7ff6d03a"
      },
      "outputs": [],
      "source": [
        "df_prepro = df.dropna()"
      ]
    },
    {
      "cell_type": "code",
      "execution_count": null,
      "id": "724fd62a",
      "metadata": {
        "id": "724fd62a",
        "outputId": "1b261540-3546-4f2c-f217-e347acb523d8"
      },
      "outputs": [
        {
          "name": "stdout",
          "output_type": "stream",
          "text": [
            "(3061, 3)\n",
            "(2810, 3)\n"
          ]
        }
      ],
      "source": [
        "print(df.shape)\n",
        "print(df_prepro.shape)"
      ]
    },
    {
      "cell_type": "markdown",
      "id": "a5eb34b0",
      "metadata": {
        "id": "a5eb34b0"
      },
      "source": [
        "## 2.Delete emoji"
      ]
    },
    {
      "cell_type": "code",
      "execution_count": null,
      "id": "e6ae8dae",
      "metadata": {
        "id": "e6ae8dae"
      },
      "outputs": [],
      "source": [
        "emoji_pattern = re.compile(\"[\"\n",
        "                               u\"\\U0001F600-\\U0001F64F\"  # emoticons\n",
        "                               u\"\\U0001F300-\\U0001F5FF\"  # symbols & pictographs\n",
        "                               u\"\\U0001F680-\\U0001F6FF\"  # transport & map symbols\n",
        "                               u\"\\U0001F1E0-\\U0001F1FF\"  # flags (iOS)\n",
        "                               u\"\\U00002500-\\U00002BEF\"  # chinese char\n",
        "                               u\"\\U00002702-\\U000027B0\"\n",
        "                               u\"\\U00002702-\\U000027B0\"\n",
        "                               u\"\\U000024C2-\\U0001F251\"\n",
        "                               u\"\\U0001f926-\\U0001f937\"\n",
        "                               u\"\\U00010000-\\U0010ffff\"\n",
        "                               u\"\\u2640-\\u2642\"\n",
        "                               u\"\\u2600-\\u2B55\"\n",
        "                               u\"\\u200d\"\n",
        "                               u\"\\u23cf\"\n",
        "                               u\"\\u23e9\"\n",
        "                               u\"\\u231a\"\n",
        "                               u\"\\ufe0f\"  # dingbats\n",
        "                               u\"\\u3030\"\n",
        "                               \"]+\", flags=re.UNICODE)\n",
        "\n",
        "def has_emoji_or_symbol(text):\n",
        "    return bool(emoji_pattern.search(text))\n",
        "\n",
        "def clear_emoji(text):\n",
        "  text = re.sub('https?:\\/\\/\\S+','',text)\n",
        "  text = re.sub('@','',text)\n",
        "  text = re.sub(emoji_pattern,'',text)\n",
        "  return text"
      ]
    },
    {
      "cell_type": "code",
      "execution_count": null,
      "id": "1b89f5c5",
      "metadata": {
        "id": "1b89f5c5",
        "outputId": "89e45c8e-661d-4f46-da4e-9f2e9e99684f"
      },
      "outputs": [
        {
          "data": {
            "text/plain": [
              "str"
            ]
          },
          "execution_count": 7,
          "metadata": {},
          "output_type": "execute_result"
        }
      ],
      "source": [
        "type(df_prepro['review_text'].iloc[77])"
      ]
    },
    {
      "cell_type": "code",
      "execution_count": null,
      "id": "79a21982",
      "metadata": {
        "id": "79a21982",
        "outputId": "4711986d-a1f1-4120-b560-d3a6eeaef541"
      },
      "outputs": [
        {
          "name": "stdout",
          "output_type": "stream",
          "text": [
            "Thống kê những dòng có icon:  Counter({False: 2726, True: 84})\n"
          ]
        }
      ],
      "source": [
        "emoji_amount = []\n",
        "for i in range(0,len(df_prepro)):\n",
        "    text = df_prepro['review_text'].iloc[i]\n",
        "    emoji = has_emoji_or_symbol(text)\n",
        "    emoji_amount.append(emoji)\n",
        "\n",
        "print('Thống kê những dòng có icon: ',Counter(emoji_amount))"
      ]
    },
    {
      "cell_type": "code",
      "execution_count": null,
      "id": "cdaf6da4",
      "metadata": {
        "id": "cdaf6da4",
        "outputId": "38992ddf-180e-4ec8-a766-d6b462064b06"
      },
      "outputs": [
        {
          "name": "stderr",
          "output_type": "stream",
          "text": [
            "C:\\Users\\Khanh\\AppData\\Local\\Temp\\ipykernel_1856\\4205833333.py:1: SettingWithCopyWarning: \n",
            "A value is trying to be set on a copy of a slice from a DataFrame.\n",
            "Try using .loc[row_indexer,col_indexer] = value instead\n",
            "\n",
            "See the caveats in the documentation: https://pandas.pydata.org/pandas-docs/stable/user_guide/indexing.html#returning-a-view-versus-a-copy\n",
            "  df_prepro['none_emoji_review_text'] = df_prepro['review_text'].apply(clear_emoji)\n"
          ]
        }
      ],
      "source": [
        "df_prepro['none_emoji_review_text'] = df_prepro['review_text'].apply(clear_emoji)"
      ]
    },
    {
      "cell_type": "code",
      "execution_count": null,
      "id": "df985e6d",
      "metadata": {
        "id": "df985e6d",
        "outputId": "e249f9eb-d3a3-478f-ac5a-220f1c4250ee"
      },
      "outputs": [
        {
          "name": "stderr",
          "output_type": "stream",
          "text": [
            "C:\\Users\\Khanh\\AppData\\Local\\Temp\\ipykernel_1856\\3434254181.py:1: SettingWithCopyWarning: \n",
            "A value is trying to be set on a copy of a slice from a DataFrame.\n",
            "Try using .loc[row_indexer,col_indexer] = value instead\n",
            "\n",
            "See the caveats in the documentation: https://pandas.pydata.org/pandas-docs/stable/user_guide/indexing.html#returning-a-view-versus-a-copy\n",
            "  df_prepro['has_emoji_or_symbol'] = df_prepro['review_text'].apply(has_emoji_or_symbol)\n"
          ]
        }
      ],
      "source": [
        "df_prepro['has_emoji_or_symbol'] = df_prepro['review_text'].apply(has_emoji_or_symbol)\n",
        "\n",
        "# Select only the rows that have emojis or symbols\n",
        "emoji_rows = df_prepro[df_prepro['has_emoji_or_symbol'] == True]"
      ]
    },
    {
      "cell_type": "code",
      "execution_count": null,
      "id": "96f5a18d",
      "metadata": {
        "id": "96f5a18d",
        "outputId": "72f6f6d1-cf92-48b1-c500-f7062c1c8281"
      },
      "outputs": [
        {
          "data": {
            "text/html": [
              "<div>\n",
              "<style scoped>\n",
              "    .dataframe tbody tr th:only-of-type {\n",
              "        vertical-align: middle;\n",
              "    }\n",
              "\n",
              "    .dataframe tbody tr th {\n",
              "        vertical-align: top;\n",
              "    }\n",
              "\n",
              "    .dataframe thead th {\n",
              "        text-align: right;\n",
              "    }\n",
              "</style>\n",
              "<table border=\"1\" class=\"dataframe\">\n",
              "  <thead>\n",
              "    <tr style=\"text-align: right;\">\n",
              "      <th></th>\n",
              "      <th>review_text</th>\n",
              "      <th>none_emoji_review_text</th>\n",
              "    </tr>\n",
              "  </thead>\n",
              "  <tbody>\n",
              "    <tr>\n",
              "      <th>94</th>\n",
              "      <td>Vào đây không thiếu tiền đâu nha các bạn. Mấy ...</td>\n",
              "      <td>Vào đây không thiếu tiền đâu nha các bạn. Mấy ...</td>\n",
              "    </tr>\n",
              "    <tr>\n",
              "      <th>99</th>\n",
              "      <td>Rất tệ, giao dịch viên nói chuyện qua điện tho...</td>\n",
              "      <td>Rất tệ, giao dịch viên nói chuyện qua điện tho...</td>\n",
              "    </tr>\n",
              "    <tr>\n",
              "      <th>119</th>\n",
              "      <td>Chị tư vấn viên quầy số 6 hồi chiều giúp em mở...</td>\n",
              "      <td>Chị tư vấn viên quầy số 6 hồi chiều giúp em mở...</td>\n",
              "    </tr>\n",
              "    <tr>\n",
              "      <th>182</th>\n",
              "      <td>Mình đăng kí dịch vụ mở thẻ visa, được chị Pha...</td>\n",
              "      <td>Mình đăng kí dịch vụ mở thẻ visa, được chị Pha...</td>\n",
              "    </tr>\n",
              "    <tr>\n",
              "      <th>223</th>\n",
              "      <td>Thái độ phục vụ tệ. Bảo vệ ngồi đông. Nhưng th...</td>\n",
              "      <td>Thái độ phục vụ tệ. Bảo vệ ngồi đông. Nhưng th...</td>\n",
              "    </tr>\n",
              "    <tr>\n",
              "      <th>...</th>\n",
              "      <td>...</td>\n",
              "      <td>...</td>\n",
              "    </tr>\n",
              "    <tr>\n",
              "      <th>2778</th>\n",
              "      <td>Rút tiền không ra tiền mà thẻ bị trừ tiền đề n...</td>\n",
              "      <td>Rút tiền không ra tiền mà thẻ bị trừ tiền đề n...</td>\n",
              "    </tr>\n",
              "    <tr>\n",
              "      <th>2876</th>\n",
              "      <td>Cũng khá là ok 👍</td>\n",
              "      <td>Cũng khá là ok</td>\n",
              "    </tr>\n",
              "    <tr>\n",
              "      <th>2903</th>\n",
              "      <td>Vào đây không thiếu tiền đâu nha các bạn. Mấy ...</td>\n",
              "      <td>Vào đây không thiếu tiền đâu nha các bạn. Mấy ...</td>\n",
              "    </tr>\n",
              "    <tr>\n",
              "      <th>2927</th>\n",
              "      <td>Chăm sóc sau bán hàng tốt 😍😍😍</td>\n",
              "      <td>Chăm sóc sau bán hàng tốt</td>\n",
              "    </tr>\n",
              "    <tr>\n",
              "      <th>3052</th>\n",
              "      <td>Năng động, chuyên nghiệp 5⭐️</td>\n",
              "      <td>Năng động, chuyên nghiệp 5</td>\n",
              "    </tr>\n",
              "  </tbody>\n",
              "</table>\n",
              "<p>84 rows × 2 columns</p>\n",
              "</div>"
            ],
            "text/plain": [
              "                                            review_text  \\\n",
              "94    Vào đây không thiếu tiền đâu nha các bạn. Mấy ...   \n",
              "99    Rất tệ, giao dịch viên nói chuyện qua điện tho...   \n",
              "119   Chị tư vấn viên quầy số 6 hồi chiều giúp em mở...   \n",
              "182   Mình đăng kí dịch vụ mở thẻ visa, được chị Pha...   \n",
              "223   Thái độ phục vụ tệ. Bảo vệ ngồi đông. Nhưng th...   \n",
              "...                                                 ...   \n",
              "2778  Rút tiền không ra tiền mà thẻ bị trừ tiền đề n...   \n",
              "2876                                   Cũng khá là ok 👍   \n",
              "2903  Vào đây không thiếu tiền đâu nha các bạn. Mấy ...   \n",
              "2927                      Chăm sóc sau bán hàng tốt 😍😍😍   \n",
              "3052                       Năng động, chuyên nghiệp 5⭐️   \n",
              "\n",
              "                                 none_emoji_review_text  \n",
              "94    Vào đây không thiếu tiền đâu nha các bạn. Mấy ...  \n",
              "99    Rất tệ, giao dịch viên nói chuyện qua điện tho...  \n",
              "119   Chị tư vấn viên quầy số 6 hồi chiều giúp em mở...  \n",
              "182   Mình đăng kí dịch vụ mở thẻ visa, được chị Pha...  \n",
              "223   Thái độ phục vụ tệ. Bảo vệ ngồi đông. Nhưng th...  \n",
              "...                                                 ...  \n",
              "2778  Rút tiền không ra tiền mà thẻ bị trừ tiền đề n...  \n",
              "2876                                    Cũng khá là ok   \n",
              "2903  Vào đây không thiếu tiền đâu nha các bạn. Mấy ...  \n",
              "2927                         Chăm sóc sau bán hàng tốt   \n",
              "3052                         Năng động, chuyên nghiệp 5  \n",
              "\n",
              "[84 rows x 2 columns]"
            ]
          },
          "execution_count": 11,
          "metadata": {},
          "output_type": "execute_result"
        }
      ],
      "source": [
        "emoji_rows[['review_text','none_emoji_review_text']]"
      ]
    },
    {
      "cell_type": "markdown",
      "id": "31b55f21",
      "metadata": {
        "id": "31b55f21"
      },
      "source": [
        "## 3.Remove punctuation, lowercase, tokenize data"
      ]
    },
    {
      "cell_type": "code",
      "execution_count": null,
      "id": "1cf1e450",
      "metadata": {
        "id": "1cf1e450",
        "outputId": "7c3c4c20-1b67-45ef-afc5-c9f8f80a824f"
      },
      "outputs": [
        {
          "name": "stderr",
          "output_type": "stream",
          "text": [
            "C:\\Users\\Khanh\\AppData\\Local\\Temp\\ipykernel_1856\\3613136909.py:1: SettingWithCopyWarning: \n",
            "A value is trying to be set on a copy of a slice from a DataFrame.\n",
            "Try using .loc[row_indexer,col_indexer] = value instead\n",
            "\n",
            "See the caveats in the documentation: https://pandas.pydata.org/pandas-docs/stable/user_guide/indexing.html#returning-a-view-versus-a-copy\n",
            "  df_prepro['review_rating'] = np.where(df_prepro['review_rating']<=2, 'Tiêu cực',np.where(df_prepro['review_rating']>3,'Tích cực','Trung lập'))\n"
          ]
        }
      ],
      "source": [
        "df_prepro['review_rating'] = np.where(df_prepro['review_rating']<=2, 'Tiêu cực',np.where(df_prepro['review_rating']>3,'Tích cực','Trung lập'))"
      ]
    },
    {
      "cell_type": "code",
      "execution_count": null,
      "id": "3253b0d0",
      "metadata": {
        "id": "3253b0d0",
        "outputId": "f5cad089-043b-43fd-dfbb-5e55d03283ad"
      },
      "outputs": [
        {
          "data": {
            "text/html": [
              "<div>\n",
              "<style scoped>\n",
              "    .dataframe tbody tr th:only-of-type {\n",
              "        vertical-align: middle;\n",
              "    }\n",
              "\n",
              "    .dataframe tbody tr th {\n",
              "        vertical-align: top;\n",
              "    }\n",
              "\n",
              "    .dataframe thead th {\n",
              "        text-align: right;\n",
              "    }\n",
              "</style>\n",
              "<table border=\"1\" class=\"dataframe\">\n",
              "  <thead>\n",
              "    <tr style=\"text-align: right;\">\n",
              "      <th></th>\n",
              "      <th>place_name</th>\n",
              "      <th>review_text</th>\n",
              "      <th>review_rating</th>\n",
              "      <th>none_emoji_review_text</th>\n",
              "      <th>has_emoji_or_symbol</th>\n",
              "    </tr>\n",
              "  </thead>\n",
              "  <tbody>\n",
              "    <tr>\n",
              "      <th>0</th>\n",
              "      <td>Vietinbank - PGD Yên Thái</td>\n",
              "      <td>Nv thấy dân lao động không thèm tiếp.ăn nói th...</td>\n",
              "      <td>Tiêu cực</td>\n",
              "      <td>Nv thấy dân lao động không thèm tiếp.ăn nói th...</td>\n",
              "      <td>False</td>\n",
              "    </tr>\n",
              "    <tr>\n",
              "      <th>1</th>\n",
              "      <td>Vietinbank - PGD Yên Thái</td>\n",
              "      <td>Ngân hàng quá Tuyệt</td>\n",
              "      <td>Tích cực</td>\n",
              "      <td>Ngân hàng quá Tuyệt</td>\n",
              "      <td>False</td>\n",
              "    </tr>\n",
              "    <tr>\n",
              "      <th>2</th>\n",
              "      <td>Vietinbank - PGD Yên Thái</td>\n",
              "      <td>Đằng kia</td>\n",
              "      <td>Tích cực</td>\n",
              "      <td>Đằng kia</td>\n",
              "      <td>False</td>\n",
              "    </tr>\n",
              "    <tr>\n",
              "      <th>4</th>\n",
              "      <td>Ngân Hàng Công Thương Việt Nam Vietinbank PGD ...</td>\n",
              "      <td>Nhân viên giao dịch tại quầy làm việc không kh...</td>\n",
              "      <td>Tiêu cực</td>\n",
              "      <td>Nhân viên giao dịch tại quầy làm việc không kh...</td>\n",
              "      <td>False</td>\n",
              "    </tr>\n",
              "    <tr>\n",
              "      <th>5</th>\n",
              "      <td>Ngân Hàng Công Thương Việt Nam Vietinbank PGD ...</td>\n",
              "      <td>Nhân viên làm chậm, và vừa làm vừa buôn chuyện...</td>\n",
              "      <td>Tiêu cực</td>\n",
              "      <td>Nhân viên làm chậm, và vừa làm vừa buôn chuyện...</td>\n",
              "      <td>False</td>\n",
              "    </tr>\n",
              "  </tbody>\n",
              "</table>\n",
              "</div>"
            ],
            "text/plain": [
              "                                          place_name  \\\n",
              "0                          Vietinbank - PGD Yên Thái   \n",
              "1                          Vietinbank - PGD Yên Thái   \n",
              "2                          Vietinbank - PGD Yên Thái   \n",
              "4  Ngân Hàng Công Thương Việt Nam Vietinbank PGD ...   \n",
              "5  Ngân Hàng Công Thương Việt Nam Vietinbank PGD ...   \n",
              "\n",
              "                                         review_text review_rating  \\\n",
              "0  Nv thấy dân lao động không thèm tiếp.ăn nói th...      Tiêu cực   \n",
              "1                                Ngân hàng quá Tuyệt      Tích cực   \n",
              "2                                           Đằng kia      Tích cực   \n",
              "4  Nhân viên giao dịch tại quầy làm việc không kh...      Tiêu cực   \n",
              "5  Nhân viên làm chậm, và vừa làm vừa buôn chuyện...      Tiêu cực   \n",
              "\n",
              "                              none_emoji_review_text  has_emoji_or_symbol  \n",
              "0  Nv thấy dân lao động không thèm tiếp.ăn nói th...                False  \n",
              "1                                Ngân hàng quá Tuyệt                False  \n",
              "2                                           Đằng kia                False  \n",
              "4  Nhân viên giao dịch tại quầy làm việc không kh...                False  \n",
              "5  Nhân viên làm chậm, và vừa làm vừa buôn chuyện...                False  "
            ]
          },
          "execution_count": 13,
          "metadata": {},
          "output_type": "execute_result"
        }
      ],
      "source": [
        "df_prepro.head(5)"
      ]
    },
    {
      "cell_type": "code",
      "execution_count": null,
      "id": "61c8006d",
      "metadata": {
        "id": "61c8006d",
        "outputId": "ea3aefbc-dd36-4aa4-e9da-217577f86abc"
      },
      "outputs": [
        {
          "data": {
            "text/plain": [
              "'Phục vụ tốt'"
            ]
          },
          "execution_count": 14,
          "metadata": {},
          "output_type": "execute_result"
        }
      ],
      "source": [
        "df_prepro['review_text'][60]"
      ]
    },
    {
      "cell_type": "code",
      "execution_count": null,
      "id": "e075b2e2",
      "metadata": {
        "id": "e075b2e2",
        "outputId": "4317c707-df8c-4a57-de90-8ff91278f3ea"
      },
      "outputs": [
        {
          "data": {
            "text/plain": [
              "Tích cực     1330\n",
              "Tiêu cực     1321\n",
              "Trung lập     159\n",
              "Name: review_rating, dtype: int64"
            ]
          },
          "execution_count": 15,
          "metadata": {},
          "output_type": "execute_result"
        }
      ],
      "source": [
        "df1 = df_prepro[['none_emoji_review_text','review_rating']]\n",
        "df1['review_rating'].value_counts()"
      ]
    },
    {
      "cell_type": "code",
      "execution_count": null,
      "id": "067301a0",
      "metadata": {
        "id": "067301a0",
        "outputId": "daf83d40-febd-4db7-8b7b-e5c12bdc5570"
      },
      "outputs": [
        {
          "data": {
            "text/plain": [
              "'Ngân hàng quá Tuyệt'"
            ]
          },
          "execution_count": 16,
          "metadata": {},
          "output_type": "execute_result"
        }
      ],
      "source": [
        "df1['none_emoji_review_text'][1]"
      ]
    },
    {
      "cell_type": "code",
      "execution_count": null,
      "id": "5e69c0f4",
      "metadata": {
        "id": "5e69c0f4"
      },
      "outputs": [],
      "source": [
        "input_data = df1['none_emoji_review_text'].to_list()\n",
        "input_label = df1['review_rating'].to_list()\n",
        "\n",
        "\n",
        "input_pre = []\n",
        "label_with_accent = []\n",
        "for idx, dt in enumerate(input_data):\n",
        "  input_text_pre = tf.keras.preprocessing.text.text_to_word_sequence(dt)\n",
        "  input_text_pre = \" \".join(input_text_pre)\n",
        "  input_text_pre_no_accent = ViUtils.remove_accents(input_text_pre).decode('utf-8')\n",
        "  input_text_pre_accent = ViTokenizer.tokenize(input_text_pre)\n",
        "  input_text_pre_no_accent = ViTokenizer.tokenize(input_text_pre_no_accent)\n",
        "  input_pre.append(input_text_pre_accent)\n",
        "  input_pre.append(input_text_pre_no_accent)\n",
        "  label_with_accent.append(input_label[idx])\n",
        "  label_with_accent.append(input_label[idx])"
      ]
    },
    {
      "cell_type": "code",
      "execution_count": null,
      "id": "27d448e2",
      "metadata": {
        "id": "27d448e2",
        "outputId": "fc1f2499-21f4-4582-b451-d57ca195bb2d"
      },
      "outputs": [
        {
          "data": {
            "text/plain": [
              "5620"
            ]
          },
          "execution_count": 18,
          "metadata": {},
          "output_type": "execute_result"
        }
      ],
      "source": [
        "len(input_pre)"
      ]
    },
    {
      "cell_type": "code",
      "execution_count": null,
      "id": "96c1bbc8",
      "metadata": {
        "id": "96c1bbc8",
        "outputId": "3c6fe741-a8e1-4234-894d-2a3d808ff19d"
      },
      "outputs": [
        {
          "data": {
            "image/png": "[encoded data removed]",
            "text/plain": [
              "<Figure size 864x576 with 4 Axes>"
            ]
          },
          "metadata": {
            "needs_background": "light"
          },
          "output_type": "display_data"
        }
      ],
      "source": [
        "fig= plt.figure(figsize = ([12, 8]))\n",
        "fig. suptitle(\"Biểu đồ thể hiện tần số của độ dài chuỗi\", fontsize=15)\n",
        "\n",
        "plt.subplot(2, 2, 1)\n",
        "pd.Series([len(i.split()) for i in input_pre[0:500]]).hist(bins = 5)\n",
        "plt.xlabel('Độ dài chuỗi')\n",
        "plt.ylabel('Tần số xuất hiện')\n",
        "plt.grid(axis = 'x')\n",
        "plt.subplot(2, 2, 2)\n",
        "pd.Series([len(i.split()) for i in input_pre[500:1000]]).hist(bins = 5)\n",
        "plt.xlabel('Độ dài chuỗi')\n",
        "plt.ylabel('Tần số xuất hiện')\n",
        "plt.grid(axis = 'x')\n",
        "plt.subplot(2, 2, 3)\n",
        "pd.Series([len(i.split()) for i in input_pre[1000:1500]]).hist(bins = 5)\n",
        "plt.xlabel('Độ dài chuỗi')\n",
        "plt.ylabel('Tần số xuất hiện')\n",
        "plt.grid(axis = 'x')\n",
        "plt.subplot(2, 2, 4)\n",
        "pd.Series([len(i.split()) for i in input_pre[1500:2000]]).hist(bins = 5)\n",
        "plt.xlabel('Độ dài chuỗi')\n",
        "plt.ylabel('Tần số xuất hiện')\n",
        "plt.grid(axis = 'x')\n",
        "\n",
        "plt.show()"
      ]
    },
    {
      "cell_type": "code",
      "execution_count": null,
      "id": "78fe75ae",
      "metadata": {
        "id": "78fe75ae",
        "outputId": "7fb9d863-b2ad-4130-f049-b42741da367d"
      },
      "outputs": [
        {
          "data": {
            "text/plain": [
              "97"
            ]
          },
          "execution_count": 20,
          "metadata": {},
          "output_type": "execute_result"
        }
      ],
      "source": [
        "seq = [len(i.split()) for i in input_pre]\n",
        "maxlen = int(np.percentile(seq, 95))\n",
        "maxlen"
      ]
    },
    {
      "cell_type": "markdown",
      "id": "81fb402a",
      "metadata": {
        "id": "81fb402a"
      },
      "source": [
        "## 4.Vectorize & split data"
      ]
    },
    {
      "cell_type": "code",
      "execution_count": null,
      "id": "de430869",
      "metadata": {
        "id": "de430869",
        "outputId": "d931dcc2-3f36-4d5e-8cec-448655f397ea"
      },
      "outputs": [
        {
          "data": {
            "text/plain": [
              "array([[ 203,  190, 1368, ...,    0,    0,    0],\n",
              "       [ 203,  130,  220, ...,    0,    0,    0],\n",
              "       [  16,  105, 1369, ...,    0,    0,    0],\n",
              "       ...,\n",
              "       [  79,  169,  195, ...,    0,    0,    0],\n",
              "       [   8,  878,  312, ...,    0,    0,    0],\n",
              "       [   4,    5,  773, ...,    0,    0,    0]])"
            ]
          },
          "execution_count": 21,
          "metadata": {},
          "output_type": "execute_result"
        }
      ],
      "source": [
        "#Vector hóa nhãn\n",
        "label_dict = {'Tiêu cực': 0,'Trung lập': 1,'Tích cực':2}\n",
        "label_idx = [label_dict[i] for i in label_with_accent]\n",
        "label_tf = tf.keras.utils.to_categorical(label_idx,num_classes=3,dtype='float32')\n",
        "\n",
        "# Vector hóa dữ liệu\n",
        "tokenize_data = Tokenizer(oov_token='<OOV>',filters='',split=' ')\n",
        "tokenize_data.fit_on_texts(input_pre)\n",
        "pickle.dump(tokenize_data, open(\"tokenize_data.pkl\",\"wb\"))\n",
        "\n",
        "tokenize_data_text = tokenize_data.texts_to_sequences(input_pre)\n",
        "vec_data = pad_sequences(tokenize_data_text,padding='post',maxlen=108)\n",
        "vec_data\n",
        "#pickle.dump(tokenize_data, open(\"tokenize_data.pkl_2\",\"wb\"))"
      ]
    },
    {
      "cell_type": "code",
      "execution_count": null,
      "id": "1e6a952e",
      "metadata": {
        "id": "1e6a952e",
        "outputId": "a8a1af55-5c92-4490-e8f1-d606622ef9ce"
      },
      "outputs": [
        {
          "data": {
            "text/plain": [
              "keras.preprocessing.text.Tokenizer"
            ]
          },
          "execution_count": 22,
          "metadata": {},
          "output_type": "execute_result"
        }
      ],
      "source": [
        "type(tokenize_data)"
      ]
    },
    {
      "cell_type": "code",
      "execution_count": null,
      "id": "72565114",
      "metadata": {
        "id": "72565114",
        "outputId": "d19964a6-4d24-431a-8ecc-0b83cf88a683"
      },
      "outputs": [
        {
          "data": {
            "text/plain": [
              "'giao_dịch nhanh gọn nhân_viên dễ_thương'"
            ]
          },
          "execution_count": 23,
          "metadata": {},
          "output_type": "execute_result"
        }
      ],
      "source": [
        "input_pre[230]"
      ]
    },
    {
      "cell_type": "code",
      "execution_count": null,
      "id": "2bd9b8da",
      "metadata": {
        "id": "2bd9b8da",
        "outputId": "ef144a2e-041c-408d-bdf4-eac82bbd5575"
      },
      "outputs": [
        {
          "data": {
            "text/plain": [
              "array([[   0,    0,    0, ...,  440,  477, 1236],\n",
              "       [   0,    0,    0, ...,  440,  477,  307],\n",
              "       [   0,    0,    0, ...,   16,  105, 1369],\n",
              "       ...,\n",
              "       [   0,    0,    0, ...,   21,  145,  613],\n",
              "       [   0,    0,    0, ...,  203,  105,  128],\n",
              "       [   0,    0,    0, ...,  203,   35,   81]])"
            ]
          },
          "execution_count": 24,
          "metadata": {},
          "output_type": "execute_result"
        }
      ],
      "source": [
        "tokenize_data = Tokenizer(oov_token='<OOV>',filters='',split=' ')\n",
        "tokenize_data.fit_on_texts(input_pre)\n",
        "\n",
        "tokenize_data_text = tokenize_data.texts_to_sequences(input_pre)\n",
        "vec_data1 = pad_sequences(tokenize_data_text,maxlen=108)\n",
        "vec_data1"
      ]
    },
    {
      "cell_type": "code",
      "execution_count": null,
      "id": "b22dba6e",
      "metadata": {
        "id": "b22dba6e",
        "outputId": "f8b1e413-9080-4cfa-f91a-d3176fa6919f"
      },
      "outputs": [
        {
          "data": {
            "text/plain": [
              "array([0., 0., 1.], dtype=float32)"
            ]
          },
          "execution_count": 25,
          "metadata": {},
          "output_type": "execute_result"
        }
      ],
      "source": [
        "label_idx = [label_dict[i] for i in label_with_accent]\n",
        "label_tf = tf.keras.utils.to_categorical(label_idx,num_classes=3,dtype='float32')\n",
        "label_tf[2]"
      ]
    },
    {
      "cell_type": "code",
      "execution_count": null,
      "id": "ed4dc29e",
      "metadata": {
        "id": "ed4dc29e"
      },
      "outputs": [],
      "source": [
        "X_train, X_val, Y_train, Y_val = train_test_split(vec_data,label_tf,test_size = 0.2,random_state=42)\n",
        "df_train, df_test, df_y_train, df_y_test = train_test_split(df1['none_emoji_review_text'],df1['review_rating'],test_size = 0.1,random_state=42)"
      ]
    },
    {
      "cell_type": "code",
      "execution_count": null,
      "id": "a473895c",
      "metadata": {
        "id": "a473895c",
        "outputId": "fedb0919-5da8-4d24-f523-a2dec3adf779"
      },
      "outputs": [
        {
          "data": {
            "text/html": [
              "<div>\n",
              "<style scoped>\n",
              "    .dataframe tbody tr th:only-of-type {\n",
              "        vertical-align: middle;\n",
              "    }\n",
              "\n",
              "    .dataframe tbody tr th {\n",
              "        vertical-align: top;\n",
              "    }\n",
              "\n",
              "    .dataframe thead th {\n",
              "        text-align: right;\n",
              "    }\n",
              "</style>\n",
              "<table border=\"1\" class=\"dataframe\">\n",
              "  <thead>\n",
              "    <tr style=\"text-align: right;\">\n",
              "      <th></th>\n",
              "      <th>none_emoji_review_text</th>\n",
              "      <th>review_rating</th>\n",
              "    </tr>\n",
              "  </thead>\n",
              "  <tbody>\n",
              "    <tr>\n",
              "      <th>0</th>\n",
              "      <td>Nv thấy dân lao động không thèm tiếp.ăn nói th...</td>\n",
              "      <td>Tiêu cực</td>\n",
              "    </tr>\n",
              "    <tr>\n",
              "      <th>1</th>\n",
              "      <td>Ngân hàng quá Tuyệt</td>\n",
              "      <td>Tích cực</td>\n",
              "    </tr>\n",
              "    <tr>\n",
              "      <th>2</th>\n",
              "      <td>Đằng kia</td>\n",
              "      <td>Tích cực</td>\n",
              "    </tr>\n",
              "    <tr>\n",
              "      <th>4</th>\n",
              "      <td>Nhân viên giao dịch tại quầy làm việc không kh...</td>\n",
              "      <td>Tiêu cực</td>\n",
              "    </tr>\n",
              "    <tr>\n",
              "      <th>5</th>\n",
              "      <td>Nhân viên làm chậm, và vừa làm vừa buôn chuyện...</td>\n",
              "      <td>Tiêu cực</td>\n",
              "    </tr>\n",
              "    <tr>\n",
              "      <th>...</th>\n",
              "      <td>...</td>\n",
              "      <td>...</td>\n",
              "    </tr>\n",
              "    <tr>\n",
              "      <th>3056</th>\n",
              "      <td>PGD chỉ có 2 nhân viên giao dịch.Lúc vắng thì ...</td>\n",
              "      <td>Tiêu cực</td>\n",
              "    </tr>\n",
              "    <tr>\n",
              "      <th>3057</th>\n",
              "      <td>ngân hàng ở đây nói chung là nhân viên cũng tạ...</td>\n",
              "      <td>Trung lập</td>\n",
              "    </tr>\n",
              "    <tr>\n",
              "      <th>3058</th>\n",
              "      <td>Dịch vụ phong phú, nghiệp vụ nhân viên tô...</td>\n",
              "      <td>Tích cực</td>\n",
              "    </tr>\n",
              "    <tr>\n",
              "      <th>3059</th>\n",
              "      <td>mất thời gian một buổi sáng chờ đợi để lấy tiề...</td>\n",
              "      <td>Tiêu cực</td>\n",
              "    </tr>\n",
              "    <tr>\n",
              "      <th>3060</th>\n",
              "      <td>Nhân viên Nữ kém. CM lâu bị mờ Giáp lai mang s...</td>\n",
              "      <td>Tiêu cực</td>\n",
              "    </tr>\n",
              "  </tbody>\n",
              "</table>\n",
              "<p>2810 rows × 2 columns</p>\n",
              "</div>"
            ],
            "text/plain": [
              "                                 none_emoji_review_text review_rating\n",
              "0     Nv thấy dân lao động không thèm tiếp.ăn nói th...      Tiêu cực\n",
              "1                                   Ngân hàng quá Tuyệt      Tích cực\n",
              "2                                              Đằng kia      Tích cực\n",
              "4     Nhân viên giao dịch tại quầy làm việc không kh...      Tiêu cực\n",
              "5     Nhân viên làm chậm, và vừa làm vừa buôn chuyện...      Tiêu cực\n",
              "...                                                 ...           ...\n",
              "3056  PGD chỉ có 2 nhân viên giao dịch.Lúc vắng thì ...      Tiêu cực\n",
              "3057  ngân hàng ở đây nói chung là nhân viên cũng tạ...     Trung lập\n",
              "3058  Dịch vụ phong phú, nghiệp vụ nhân viên tô...      Tích cực\n",
              "3059  mất thời gian một buổi sáng chờ đợi để lấy tiề...      Tiêu cực\n",
              "3060  Nhân viên Nữ kém. CM lâu bị mờ Giáp lai mang s...      Tiêu cực\n",
              "\n",
              "[2810 rows x 2 columns]"
            ]
          },
          "execution_count": 27,
          "metadata": {},
          "output_type": "execute_result"
        }
      ],
      "source": [
        "df1"
      ]
    },
    {
      "cell_type": "code",
      "execution_count": null,
      "id": "1861d63a",
      "metadata": {
        "id": "1861d63a",
        "outputId": "abbafb03-c1e2-4035-f453-79dc1e7e1c8c"
      },
      "outputs": [
        {
          "name": "stdout",
          "output_type": "stream",
          "text": [
            "6495\n"
          ]
        }
      ],
      "source": [
        "data_vocab_size = len(tokenize_data.word_index)+1\n",
        "print(data_vocab_size)"
      ]
    }
  ],
  "metadata": {
    "kernelspec": {
      "display_name": "Python 3 (ipykernel)",
      "language": "python",
      "name": "python3"
    },
    "language_info": {
      "codemirror_mode": {
        "name": "ipython",
        "version": 3
      },
      "file_extension": ".py",
      "mimetype": "text/x-python",
      "name": "python",
      "nbconvert_exporter": "python",
      "pygments_lexer": "ipython3",
      "version": "3.10.9"
    },
    "colab": {
      "provenance": [],
      "toc_visible": true
    }
  },
  "nbformat": 4,
  "nbformat_minor": 5
}